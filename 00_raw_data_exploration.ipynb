{
 "cells": [
  {
   "cell_type": "markdown",
   "metadata": {
    "application/vnd.databricks.v1+cell": {
     "cellMetadata": {},
     "inputWidgets": {},
     "nuid": "96153716-457e-44e2-9606-0cbeffc3237f",
     "showTitle": false,
     "tableResultSettingsMap": {},
     "title": ""
    }
   },
   "source": [
    "##### Kaggle Datasets:\n",
    "https://www.kaggle.com/datasets/ahmedmohamed2003/cafe-sales-dirty-data-for-cleaning-training"
   ]
  },
  {
   "cell_type": "code",
   "execution_count": 0,
   "metadata": {
    "application/vnd.databricks.v1+cell": {
     "cellMetadata": {
      "byteLimit": 2048000,
      "rowLimit": 10000
     },
     "inputWidgets": {},
     "nuid": "138d13d0-9480-4aca-8eab-b1cf5b2f6d74",
     "showTitle": false,
     "tableResultSettingsMap": {},
     "title": ""
    }
   },
   "outputs": [],
   "source": [
    "import pandas as pd\n",
    "\n",
    "path = \"/Volumes/workspace/default/studies/dirty_cafe_sales.csv\"\n",
    "\n",
    "# Leitura do CSV.\n",
    "df = pd.read_csv(path)\n"
   ]
  },
  {
   "cell_type": "code",
   "execution_count": 0,
   "metadata": {
    "application/vnd.databricks.v1+cell": {
     "cellMetadata": {
      "byteLimit": 2048000,
      "rowLimit": 10000
     },
     "inputWidgets": {},
     "nuid": "f8c9568d-2944-4a60-87e4-02c490dd1b56",
     "showTitle": false,
     "tableResultSettingsMap": {},
     "title": ""
    }
   },
   "outputs": [],
   "source": [
    "# Visualiza as 15 primeiras linhas do DataFrame.\n",
    "display(df.head(15))"
   ]
  },
  {
   "cell_type": "markdown",
   "metadata": {
    "application/vnd.databricks.v1+cell": {
     "cellMetadata": {},
     "inputWidgets": {},
     "nuid": "b52b947e-e1f8-4f21-b80e-18559f6cea6b",
     "showTitle": false,
     "tableResultSettingsMap": {},
     "title": ""
    }
   },
   "source": [
    "#### Fase 1 – Diagnóstico inicial\n",
    "**1. Questão:**\n",
    "- Existem colunas com valores faltantes?\t\n",
    "- Os tipos de dados estão corretos?\t\n",
    "- Existem valores duplicados?\t\n",
    "- Os textos são consistentes?\t\n",
    "- Os números estão formatados corretamente?\t\n",
    "- Datas estão no mesmo formato?\t\n",
    "- Alguma coluna parece inútil ou redundante?\t\n",
    "\n",
    "**2. O que procurar:**\n",
    "- NaN, campos vazios\t\n",
    "- Datas como texto, números como string\t\n",
    "- Transações repetidas\t\n",
    "- Ex: “Cartão” vs “cartao”\t\n",
    "- Vírgula vs ponto, símbolo de moeda\t\n",
    "- Diferentes padrões de data\t\n",
    "- ID sem uso, Total calculável\t\n"
   ]
  }
 ],
 "metadata": {
  "application/vnd.databricks.v1+notebook": {
   "computePreferences": null,
   "dashboards": [],
   "environmentMetadata": {
    "base_environment": "",
    "environment_version": "2"
   },
   "inputWidgetPreferences": null,
   "language": "python",
   "notebookMetadata": {
    "pythonIndentUnit": 4
   },
   "notebookName": "00_raw_data_exploration",
   "widgets": {}
  },
  "language_info": {
   "name": "python"
  }
 },
 "nbformat": 4,
 "nbformat_minor": 0
}
