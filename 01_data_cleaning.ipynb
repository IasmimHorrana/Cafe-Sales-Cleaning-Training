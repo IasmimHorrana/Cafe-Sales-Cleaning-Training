{
 "cells": [
  {
   "cell_type": "markdown",
   "metadata": {
    "application/vnd.databricks.v1+cell": {
     "cellMetadata": {},
     "inputWidgets": {},
     "nuid": "8430877d-4a8c-4556-aef1-2892cd900155",
     "showTitle": false,
     "tableResultSettingsMap": {},
     "title": ""
    }
   },
   "source": [
    "#### Fase 2 – Limpeza\n",
    "\n",
    "📋 Checklist prática de limpeza:\n",
    "- Remover espaços em branco nas colunas e valores (.str.strip())\n",
    "- Uniformizar nomes (ex: formas de pagamento, localizações)\n",
    "- ✅ Converter coluna 'Quantity' para int\n",
    "- Converter colunas numéricas (Price Per Unit, Total Spent) para float\n",
    "- Converter Transaction Date para datetime\n",
    "- Preencher ou descartar valores nulos\n",
    "- ✅​ Remover duplicatas\n",
    "- Verificar consistência entre Quantity * Price Per Unit == Total Spent\n",
    "- Criar novas colunas úteis se fizer sentido (ex: mês da transação)"
   ]
  },
  {
   "cell_type": "code",
   "execution_count": 0,
   "metadata": {
    "application/vnd.databricks.v1+cell": {
     "cellMetadata": {
      "byteLimit": 2048000,
      "rowLimit": 10000
     },
     "inputWidgets": {},
     "nuid": "88731ec3-5ac9-4cf4-8ae3-d3edeff985fd",
     "showTitle": false,
     "tableResultSettingsMap": {},
     "title": ""
    }
   },
   "outputs": [],
   "source": [
    "import pandas as pd\n",
    "\n",
    "path = \"/Volumes/workspace/default/studies/dirty_cafe_sales.csv\"\n",
    "df = pd.read_csv(path)"
   ]
  },
  {
   "cell_type": "code",
   "execution_count": 0,
   "metadata": {
    "application/vnd.databricks.v1+cell": {
     "cellMetadata": {
      "byteLimit": 2048000,
      "rowLimit": 10000
     },
     "inputWidgets": {},
     "nuid": "c2ba05d6-7e54-4100-b45d-0c06aa22a6f6",
     "showTitle": false,
     "tableResultSettingsMap": {},
     "title": ""
    }
   },
   "outputs": [],
   "source": [
    "# Criar cópia para limpar sem que altere df original\n",
    "df_copy = df.copy()\n",
    "\n",
    "# Agora, só mexa em df_copy (limpeza e transformações)"
   ]
  },
  {
   "cell_type": "code",
   "execution_count": 0,
   "metadata": {
    "application/vnd.databricks.v1+cell": {
     "cellMetadata": {
      "byteLimit": 2048000,
      "rowLimit": 10000
     },
     "inputWidgets": {},
     "nuid": "b7b44469-4725-426c-a8ea-f9178fe931d4",
     "showTitle": false,
     "tableResultSettingsMap": {},
     "title": ""
    }
   },
   "outputs": [],
   "source": [
    "# Remover duplicatas\n",
    "df_copy.drop_duplicates(inplace=True)"
   ]
  },
  {
   "cell_type": "code",
   "execution_count": 0,
   "metadata": {
    "application/vnd.databricks.v1+cell": {
     "cellMetadata": {
      "byteLimit": 2048000,
      "rowLimit": 10000
     },
     "inputWidgets": {},
     "nuid": "65a3e958-e68a-4e36-bcee-1708ea345ff1",
     "showTitle": false,
     "tableResultSettingsMap": {},
     "title": ""
    }
   },
   "outputs": [],
   "source": [
    "# A coluna 'Quantity' possui valores misturados como números e strings ('UNKNOWN', 'null', 'ERROR')\n",
    "\n",
    "# Substitui valores inválidos por NaN\n",
    "df_copy['Quantity'] = df_copy['Quantity'].replace(['UNKNOWN', 'null', 'ERROR'], pd.NA)"
   ]
  },
  {
   "cell_type": "code",
   "execution_count": 0,
   "metadata": {
    "application/vnd.databricks.v1+cell": {
     "cellMetadata": {
      "byteLimit": 2048000,
      "rowLimit": 10000
     },
     "inputWidgets": {},
     "nuid": "d2d79fec-fb1a-4bb0-8671-4b2321e9bceb",
     "showTitle": false,
     "tableResultSettingsMap": {},
     "title": ""
    }
   },
   "outputs": [],
   "source": [
    "# Se tiver valores ausentes (NaN), precisará converter primeiro para float, porque int não aceita NaN diretamente\n",
    "df_copy['Quantity'] = pd.to_numeric(df_copy['Quantity'], errors='coerce')\n",
    "\n",
    "# Preencher os NaN com um valor inteiro válido (ex: 0):\n",
    "df_copy['Quantity'] = df_copy['Quantity'].fillna(0)"
   ]
  },
  {
   "cell_type": "code",
   "execution_count": 0,
   "metadata": {
    "application/vnd.databricks.v1+cell": {
     "cellMetadata": {
      "byteLimit": 2048000,
      "rowLimit": 10000
     },
     "inputWidgets": {},
     "nuid": "e7e054ed-36fc-4812-9e55-9881c35a817c",
     "showTitle": false,
     "tableResultSettingsMap": {},
     "title": ""
    }
   },
   "outputs": [],
   "source": [
    "# Convertendo para int\n",
    "df_copy['Quantity'] = df_copy['Quantity'].astype('int')"
   ]
  },
  {
   "cell_type": "code",
   "execution_count": 0,
   "metadata": {
    "application/vnd.databricks.v1+cell": {
     "cellMetadata": {
      "byteLimit": 2048000,
      "rowLimit": 10000
     },
     "inputWidgets": {},
     "nuid": "9e019d4e-c5ed-40b9-bdb0-22e63c7d05b9",
     "showTitle": false,
     "tableResultSettingsMap": {},
     "title": ""
    }
   },
   "outputs": [],
   "source": [
    "display(df_copy.head(15))"
   ]
  }
 ],
 "metadata": {
  "application/vnd.databricks.v1+notebook": {
   "computePreferences": null,
   "dashboards": [],
   "environmentMetadata": {
    "base_environment": "",
    "environment_version": "2"
   },
   "inputWidgetPreferences": null,
   "language": "python",
   "notebookMetadata": {
    "pythonIndentUnit": 4
   },
   "notebookName": "01_data_cleaning",
   "widgets": {}
  },
  "language_info": {
   "name": "python"
  }
 },
 "nbformat": 4,
 "nbformat_minor": 0
}
